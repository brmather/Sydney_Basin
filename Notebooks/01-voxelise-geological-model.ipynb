{
 "cells": [
  {
   "cell_type": "markdown",
   "metadata": {},
   "source": [
    "# 1 - Voxelise geological model\n",
    "\n",
    "Import all CSV files and interpolate each surface to a predefined grid over which to solve Darcy flow and heat flow."
   ]
  },
  {
   "cell_type": "code",
   "execution_count": null,
   "metadata": {},
   "outputs": [],
   "source": [
    "import numpy as np\n",
    "import stripy\n",
    "import matplotlib.pyplot as plt\n",
    "from scipy import interpolate\n",
    "from scipy.spatial import cKDTree\n",
    "import cartopy.crs as ccrs\n",
    "import os\n",
    "import conduction\n",
    "\n",
    "%matplotlib inline"
   ]
  },
  {
   "cell_type": "code",
   "execution_count": null,
   "metadata": {},
   "outputs": [],
   "source": [
    "data_dir = \"../Data/\"\n",
    "\n",
    "xmin, xmax = 1e99, 1e-99\n",
    "ymin, ymax = 1e99, 1e-99\n",
    "zmin, zmax = 1e99, 1e-99\n",
    "\n",
    "csvfiles = []\n",
    "for f in sorted(os.listdir(data_dir)):\n",
    "    if f.endswith('.csv'):\n",
    "        csvfiles.append(f)\n",
    "        \n",
    "        xyz = np.loadtxt(data_dir+f, delimiter=',', skiprows=1)\n",
    "        \n",
    "        xmin, ymin, zmin = np.minimum([xmin, ymin, zmin], xyz.min(axis=0))\n",
    "        xmax, ymax, zmax = np.maximum([xmax, ymax, zmax], xyz.max(axis=0))\n",
    "        \n",
    "        print(\"{:35} : av depth {:10.3f} +- {:9.3f} metres\".format(f, xyz[:,-1].mean(), np.std(xyz[:,-1])))\n",
    "\n",
    "csvfiles = list(sorted(csvfiles))\n",
    "\n",
    "print(\" \")\n",
    "print(\"x {:.3f} -> {:.3f}\".format(xmin/1e3,xmax/1e3))\n",
    "print(\"y {:.3f} -> {:.3f}\".format(ymin/1e3,ymax/1e3))\n",
    "print(\"z {:.3f} -> {:.3f}\".format(zmin/1e3,zmax/1e3))\n"
   ]
  },
  {
   "cell_type": "code",
   "execution_count": null,
   "metadata": {},
   "outputs": [],
   "source": [
    "## setup model resolution\n",
    "\n",
    "# global size\n",
    "Nx, Ny, Nz = 100, 100, 200\n",
    "\n",
    "# get local grid\n",
    "solver = conduction.ConductionND((xmin,ymin,zmin), (xmax,ymax,zmax), (Nx,Ny,Nz))\n",
    "Xcoords, Ycoords, Zcoords = solver.grid_coords\n",
    "nx, ny, nz = Xcoords.size, Ycoords.size, Zcoords.size\n",
    "\n",
    "tree = cKDTree(solver.coords)\n",
    "\n",
    "\n",
    "xq, yq = np.meshgrid(Xcoords, Ycoords)\n",
    "xq_ = xq.ravel()\n",
    "yq_ = yq.ravel()\n",
    "tree_layer = cKDTree(np.c_[xq_,yq_])\n",
    "\n",
    "voxel_model = np.full((nz,ny,nx), -1, dtype=np.int)\n",
    "layer_mask = np.zeros(nz*ny*nx, dtype=bool)"
   ]
  },
  {
   "cell_type": "code",
   "execution_count": null,
   "metadata": {},
   "outputs": [],
   "source": [
    "z_grid_prev = np.zeros((ny,nx))\n",
    "\n",
    "grid_list = []\n",
    "\n",
    "for lith, f in enumerate(csvfiles):\n",
    "\n",
    "    # load the surface and remove duplicates\n",
    "    x,y,z = np.loadtxt(data_dir+f, delimiter=',', skiprows=1, unpack=True)\n",
    "    unique_xy, unique_index = np.unique(np.c_[x,y], axis=0, return_index=True)\n",
    "    x, y = list(unique_xy.T)\n",
    "    z = z[unique_index]\n",
    "\n",
    "    # interpolate to grid\n",
    "    mesh = stripy.Triangulation(x, y, tree=True, permute=True)\n",
    "    mesh.update_tension_factors(z)\n",
    "    z_grid = mesh.interpolate_to_grid(Xcoords, Ycoords, z)\n",
    "    z_near, zierr = mesh.interpolate_nearest(xq_, yq_, z)\n",
    "    z_near = z_near.reshape(z_grid.shape)\n",
    "\n",
    "    # set entries outside tolerance to nearest neighbour interpolant\n",
    "    ztol = 0.1*(np.percentile(z,90) - np.percentile(z,10))\n",
    "    z_mask = np.logical_or(z_grid > z_near + ztol, z_grid < z_near - ztol)\n",
    "    z_grid[z_mask] = z_near[z_mask]\n",
    "\n",
    "    # avoid the gap - make sure we interpolate where we have data\n",
    "    d, idx = mesh.nearest_vertices(xq_, yq_)\n",
    "    dtol = np.sqrt(mesh.areas()).max()\n",
    "    z_inv_mask = np.logical_or(zierr==1, d > dtol)\n",
    "    z_grid.flat[z_inv_mask] = z_grid_prev.flat[z_inv_mask]\n",
    "\n",
    "    # interpolate to voxel_model\n",
    "    d, idx = tree.query(np.c_[xq_, yq_, z_grid.ravel()])\n",
    "    layer_mask.fill(0)\n",
    "    layer_mask[idx] = True\n",
    "    i0, j0, k0 = np.where(layer_mask.reshape(nz,ny,nx))\n",
    "    for i in range(i0.size):\n",
    "        voxel_model[:i0[i], j0[i], k0[i]] = lith+1\n",
    "\n",
    "\n",
    "    # store for next surface\n",
    "    z_grid_prev = z_grid.copy()\n",
    "    \n",
    "    grid_list.append(z_grid.copy())\n",
    "    "
   ]
  },
  {
   "cell_type": "code",
   "execution_count": null,
   "metadata": {
    "scrolled": true
   },
   "outputs": [],
   "source": [
    "plt.imshow(grid_list[-4], extent=[xmin,xmax,ymin,ymax])\n",
    "plt.colorbar()"
   ]
  },
  {
   "cell_type": "code",
   "execution_count": null,
   "metadata": {},
   "outputs": [],
   "source": [
    "plt.imshow(voxel_model[:,50,:], origin='lower')\n",
    "plt.colorbar()"
   ]
  },
  {
   "cell_type": "code",
   "execution_count": null,
   "metadata": {},
   "outputs": [],
   "source": [
    "h5_output = \"sydney_basin.h5\"\n",
    "\n",
    "solver.save_mesh_to_hdf5(h5_output)\n",
    "solver.save_field_to_hdf5(h5_output, lithology=voxel_model.ravel())\n",
    "conduction.tools.generateXdmf(h5_output)"
   ]
  },
  {
   "cell_type": "code",
   "execution_count": null,
   "metadata": {},
   "outputs": [],
   "source": []
  }
 ],
 "metadata": {
  "kernelspec": {
   "display_name": "Python 3",
   "language": "python",
   "name": "python3"
  },
  "language_info": {
   "codemirror_mode": {
    "name": "ipython",
    "version": 3
   },
   "file_extension": ".py",
   "mimetype": "text/x-python",
   "name": "python",
   "nbconvert_exporter": "python",
   "pygments_lexer": "ipython3",
   "version": "3.7.6"
  }
 },
 "nbformat": 4,
 "nbformat_minor": 4
}
