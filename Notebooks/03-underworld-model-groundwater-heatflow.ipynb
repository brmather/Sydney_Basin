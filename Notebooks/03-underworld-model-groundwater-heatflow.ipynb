{
 "cells": [
  {
   "cell_type": "markdown",
   "metadata": {},
   "source": [
    "# 3 - Underworld model: groundwater + heat flow\n",
    "\n",
    "Set up the Underworld model with the appropriate material properties to solve steady state Darcy flow and heat flow."
   ]
  },
  {
   "cell_type": "code",
   "execution_count": null,
   "metadata": {},
   "outputs": [],
   "source": [
    "import numpy as np\n",
    "import os\n",
    "import stripy\n",
    "import matplotlib.pyplot as plt\n",
    "from scipy import interpolate\n",
    "from scipy.spatial import cKDTree\n",
    "\n",
    "import underworld as uw\n",
    "import underworld.visualisation as vis\n",
    "uw.utils.matplotlib_inline()"
   ]
  },
  {
   "cell_type": "code",
   "execution_count": null,
   "metadata": {
    "scrolled": false
   },
   "outputs": [],
   "source": [
    "data_dir = \"../Data/\"\n",
    "\n",
    "with np.load(data_dir+\"sydney_basin_surfaces.npz\", \"r\") as npz:\n",
    "    grid_list    = npz[\"layers\"]\n",
    "    grid_Xcoords = npz['Xcoords']\n",
    "    grid_Ycoords = npz['Ycoords']\n",
    "\n",
    "xmin, xmax = float(grid_Xcoords.min()), float(grid_Xcoords.max())\n",
    "ymin, ymax = float(grid_Ycoords.min()), float(grid_Ycoords.max())\n",
    "zmin, zmax = float(grid_list.min()),    float(grid_list.max())\n",
    "\n",
    "print(\"x {:8.3f} -> {:8.3f} km\".format(xmin/1e3,xmax/1e3))\n",
    "print(\"y {:8.3f} -> {:8.3f} km\".format(ymin/1e3,ymax/1e3))\n",
    "print(\"z {:8.3f} -> {:8.3f} km\".format(zmin/1e3,zmax/1e3))\n",
    "\n",
    "\n",
    "# set up interpolation object\n",
    "interp = interpolate.RegularGridInterpolator((grid_Ycoords, grid_Xcoords), grid_list[0], method=\"nearest\")\n",
    "\n",
    "# update grid list for top and bottom of model\n",
    "grid_list = list(grid_list)\n",
    "grid_list.append(np.full_like(grid_list[0], zmin))\n",
    "grid_list = np.array(grid_list)\n",
    "\n",
    "n_layers = grid_list.shape[0]"
   ]
  },
  {
   "cell_type": "markdown",
   "metadata": {},
   "source": [
    "## Set up the mesh"
   ]
  },
  {
   "cell_type": "code",
   "execution_count": null,
   "metadata": {},
   "outputs": [],
   "source": [
    "## setup model resolution\n",
    "\n",
    "# global size\n",
    "Nx, Ny, Nz = 20, 20, 50\n",
    "\n",
    "\n",
    "deformedmesh = True\n",
    "elementType = \"Q1\"\n",
    "mesh = uw.mesh.FeMesh_Cartesian( elementType = (elementType), \n",
    "                                 elementRes  = (Nx,Ny,Nz), \n",
    "                                 minCoord    = (xmin,ymin,zmin), \n",
    "                                 maxCoord    = (xmax,ymax,zmax)) \n",
    "\n",
    "gwPressureField            = mesh.add_variable( nodeDofCount=1 )\n",
    "temperatureField           = mesh.add_variable( nodeDofCount=1 )\n",
    "velocityField              = mesh.add_variable( nodeDofCount=3 )"
   ]
  },
  {
   "cell_type": "code",
   "execution_count": null,
   "metadata": {},
   "outputs": [],
   "source": [
    "coords = mesh.data\n",
    "\n",
    "Xcoords = np.unique(coords[:,0])\n",
    "Ycoords = np.unique(coords[:,1])\n",
    "Zcoords = np.unique(coords[:,2])\n",
    "nx, ny, nz = Xcoords.size, Ycoords.size, Zcoords.size\n"
   ]
  },
  {
   "cell_type": "markdown",
   "metadata": {},
   "source": [
    "### Wrap mesh to surface topography\n",
    "\n",
    "We want to deform z component so that we bunch up the mesh where we have valleys. The total number of cells should remain the same, only the vertical spacing should vary."
   ]
  },
  {
   "cell_type": "code",
   "execution_count": null,
   "metadata": {},
   "outputs": [],
   "source": [
    "interp.values = grid_list[0]\n",
    "local_topography = interp((mesh.data[:,1],mesh.data[:,0]))\n",
    "\n",
    "# depth above which to deform\n",
    "z_deform = zmin\n",
    "\n",
    "with mesh.deform_mesh():\n",
    "    zcube = coords[:,2].reshape(nz,ny,nx)\n",
    "    zcube_norm = zcube.copy()\n",
    "    zcube_norm -= z_deform\n",
    "    zcube_norm /= zmax - z_deform\n",
    "    zcube_mask = zcube_norm < 0\n",
    "    \n",
    "    # difference to add to existing z coordinates\n",
    "    dzcube = zcube_norm * -(zmax - local_topography.reshape(zcube.shape))\n",
    "    \n",
    "    mesh.data[:,2] += dzcube.ravel()\n",
    "    coords = mesh.data"
   ]
  },
  {
   "cell_type": "markdown",
   "metadata": {},
   "source": [
    "## Set up the types of boundary conditions\n",
    "\n",
    "We'll set the left, right and bottom walls such that flow cannot pass through them, only parallel.\n",
    "In other words for groundwater pressure $P$:\n",
    "\n",
    "$ \\frac{\\partial P}{\\partial x}=0$ : left and right walls\n",
    "\n",
    "$ \\frac{\\partial P}{\\partial y}=0$ : bottom wall\n",
    "\n",
    "This is only solvable if there is topography or a non-uniform upper pressure BC."
   ]
  },
  {
   "cell_type": "code",
   "execution_count": null,
   "metadata": {},
   "outputs": [],
   "source": [
    "topWall = mesh.specialSets[\"MaxK_VertexSet\"]\n",
    "bottomWall = mesh.specialSets[\"MinK_VertexSet\"]\n",
    "\n",
    "gwPressureBC = uw.conditions.DirichletCondition( variable      = gwPressureField, \n",
    "                                               indexSetsPerDof = ( topWall   ) )\n",
    "\n",
    "temperatureBC = uw.conditions.DirichletCondition( variable        = temperatureField,\n",
    "                                                  indexSetsPerDof = (topWall+bottomWall))\n",
    "\n",
    "Tmax = 100.\n",
    "Tmin = 0."
   ]
  },
  {
   "cell_type": "code",
   "execution_count": null,
   "metadata": {},
   "outputs": [],
   "source": [
    "# lower groundwater pressure BC - value is relative to gravity\n",
    "maxgwpressure = 0.9\n",
    "\n",
    "znorm = mesh.data[:,2].copy()\n",
    "znorm -= zmin\n",
    "znorm /= zmax\n",
    "linear_gradient = 1.0 - znorm\n",
    "\n",
    "initial_pressure = linear_gradient*maxgwpressure\n",
    "gwPressureField.data[:] = initial_pressure.reshape(-1,1)"
   ]
  },
  {
   "cell_type": "markdown",
   "metadata": {},
   "source": [
    "## Set up the swarm particles\n",
    "\n",
    "It is best to set only one particle per cell, to prevent variations in hydaulic diffusivity within cells."
   ]
  },
  {
   "cell_type": "code",
   "execution_count": null,
   "metadata": {},
   "outputs": [],
   "source": [
    "swarm         = uw.swarm.Swarm( mesh=mesh )\n",
    "swarmLayout   = uw.swarm.layouts.PerCellGaussLayout(swarm=swarm,gaussPointCount=4)\n",
    "swarm.populate_using_layout( layout=swarmLayout )"
   ]
  },
  {
   "cell_type": "code",
   "execution_count": null,
   "metadata": {},
   "outputs": [],
   "source": [
    "materialIndex  = swarm.add_variable( dataType=\"int\",    count=1 )\n",
    "swarmVelocity  = swarm.add_variable( dataType=\"double\", count=3 )\n",
    "\n",
    "hydraulicDiffusivity = swarm.add_variable( dataType=\"double\", count=1 )\n",
    "thermalDiffusivity   = swarm.add_variable( dataType=\"double\", count=1 )\n",
    "heatProduction       = swarm.add_variable( dataType=\"double\", count=1 )\n"
   ]
  },
  {
   "cell_type": "code",
   "execution_count": null,
   "metadata": {},
   "outputs": [],
   "source": [
    "for cell in range(0, mesh.elementsLocal):\n",
    "    mask_cell = swarm.owningCell.data == cell\n",
    "    idx_cell  = np.nonzero(mask_cell)[0]\n",
    "    cell_centroid = swarm.data[idx_cell].mean(axis=0)\n",
    "    cx, cy, cz = cell_centroid\n",
    "\n",
    "    for lith in range(n_layers):\n",
    "        interp.values = grid_list[lith]\n",
    "        z_interp = interp((cy,cx))\n",
    "\n",
    "        # starting from surface and going deeper with each layer\n",
    "        if cz > z_interp:\n",
    "            break\n",
    "            \n",
    "    materialIndex.data[mask_cell] = lith"
   ]
  },
  {
   "cell_type": "markdown",
   "metadata": {},
   "source": [
    "### Assign material properties\n",
    "\n",
    "Use level sets to assign hydraulic diffusivities to a region on the mesh corresponding to any given material index.\n",
    "\n",
    "- $H$ : rate of heat production\n",
    "- $\\rho$ : density\n",
    "- $k_h$ : hydraulic conductivity\n",
    "- $k_t$ : thermal conductivity\n",
    "- $\\kappa_h$ : hydraulic diffusivity\n",
    "- $\\kappa_t$ : thermal diffusivity\n",
    "\n",
    "__First, there are some lithologies that need to be collapsed.__"
   ]
  },
  {
   "cell_type": "code",
   "execution_count": null,
   "metadata": {},
   "outputs": [],
   "source": [
    "def read_material_index(filename, cols):\n",
    "    \"\"\"\n",
    "    Reads the material index with specified columns\n",
    "    \"\"\"\n",
    "    import csv\n",
    "    \n",
    "    layerIndex = dict()\n",
    "    \n",
    "    with open(filename, 'r') as f:\n",
    "        rowreader = csv.reader(f, delimiter=',')\n",
    "        csvdata = list(rowreader)\n",
    "        header = csvdata.pop(0)\n",
    "        \n",
    "    nrows = len(csvdata)\n",
    "\n",
    "    matName  = []\n",
    "    matIndex = np.empty(nrows, dtype=int)\n",
    "    read_columns = np.empty((nrows, len(cols)))\n",
    "    \n",
    "    for r, row in enumerate(csvdata):\n",
    "        index = int(row[0])\n",
    "        matIndex[r] = index\n",
    "        layerIndex[index] = np.array(row[1].split(' '), dtype=int)\n",
    "        matName.append(row[2])\n",
    "        \n",
    "        for c, col in enumerate(cols):\n",
    "            read_columns[r,c] = row[col]\n",
    "            \n",
    "    return layerIndex, matIndex, matName, list(read_columns.T)"
   ]
  },
  {
   "cell_type": "code",
   "execution_count": null,
   "metadata": {},
   "outputs": [],
   "source": [
    "cols = [3,5,7,9]\n",
    "layerIndex, matIndex, matName, [rho, kt, H, kh] = read_material_index(data_dir+\"material_properties.csv\", cols)"
   ]
  },
  {
   "cell_type": "code",
   "execution_count": null,
   "metadata": {
    "scrolled": true
   },
   "outputs": [],
   "source": [
    "voxel_model_condensed = materialIndex.data.flatten()\n",
    "\n",
    "# condense lith(s) to index(s)\n",
    "for index in matIndex:\n",
    "    for lith in layerIndex[index]:\n",
    "        voxel_model_condensed[voxel_model_condensed == lith] = index\n",
    "        \n",
    "# populate mesh variables with material properties\n",
    "for i, index in enumerate(matIndex):\n",
    "    mask_material = voxel_model_condensed == index\n",
    "    hydraulicDiffusivity.data[mask_material] = kh[i]\n",
    "    thermalDiffusivity.data[mask_material]   = kt[i]\n",
    "    heatProduction.data[mask_material]       = H[i]"
   ]
  },
  {
   "cell_type": "markdown",
   "metadata": {},
   "source": [
    "## Set up groundwater equations"
   ]
  },
  {
   "cell_type": "code",
   "execution_count": null,
   "metadata": {},
   "outputs": [],
   "source": [
    "heateqn = uw.systems.SteadyStateHeat( temperatureField = temperatureField,\n",
    "                                      fn_diffusivity   = thermalDiffusivity,\n",
    "                                      fn_heating       = heatProduction,\n",
    "                                      conditions       = temperatureBC\n",
    "                                      )\n",
    "\n",
    "heatsolver = uw.systems.Solver(heateqn)"
   ]
  },
  {
   "cell_type": "code",
   "execution_count": null,
   "metadata": {},
   "outputs": [],
   "source": [
    "heatsolver.solve()"
   ]
  },
  {
   "cell_type": "code",
   "execution_count": null,
   "metadata": {},
   "outputs": [],
   "source": [
    "if deformedmesh:\n",
    "    g = uw.function.misc.constant((0.,0.,-1.))\n",
    "else:\n",
    "    g = uw.function.misc.constant((0.,0.,0.))\n",
    "    \n",
    "Storage = 1.\n",
    "rho_water = 1.\n",
    "\n",
    "gwPressureGrad = gwPressureField.fn_gradient\n",
    "\n",
    "gMapFn = -g*rho_water*Storage\n",
    "gwadvDiff = uw.systems.SteadyStateDarcyFlow(\n",
    "                                            velocityField    = velocityField, \\\n",
    "                                            pressureField    = gwPressureField, \\\n",
    "                                            fn_diffusivity   = hydraulicDiffusivity, \\\n",
    "                                            conditions       = [gwPressureBC], \\\n",
    "                                            fn_bodyforce     = -gMapFn, \\\n",
    "                                            voronoi_swarm    = swarm, \\\n",
    "                                            swarmVarVelocity = swarmVelocity)\n",
    "\n",
    "gwsolver = uw.systems.Solver(gwadvDiff)"
   ]
  },
  {
   "cell_type": "code",
   "execution_count": null,
   "metadata": {},
   "outputs": [],
   "source": [
    "gwsolver.solve()"
   ]
  },
  {
   "cell_type": "markdown",
   "metadata": {},
   "source": [
    "__Save to HDF5__"
   ]
  },
  {
   "cell_type": "code",
   "execution_count": null,
   "metadata": {},
   "outputs": [],
   "source": [
    "# project hydraulic diffusivity to the mesh\n",
    "hydraulicDiffusivityField = mesh.add_variable( nodeDofCount=1 )\n",
    "materialIndexField        = mesh.add_variable( nodeDofCount=1 )\n",
    "\n",
    "hydproj = uw.utils.MeshVariable_Projection(hydraulicDiffusivityField, hydraulicDiffusivity, swarm)\n",
    "hydproj.solve()\n",
    "\n",
    "hydproj = uw.utils.MeshVariable_Projection(materialIndexField, materialIndex, swarm)\n",
    "hydproj.solve()\n"
   ]
  },
  {
   "cell_type": "code",
   "execution_count": null,
   "metadata": {},
   "outputs": [],
   "source": [
    "\n",
    "xdmf_info_mesh  = mesh.save('mesh.h5')\n",
    "xdmf_info_swarm = swarm.save('swarm.h5')\n",
    "\n",
    "xdmf_info_matIndex = materialIndex.save('materialIndex.h5')\n",
    "materialIndex.xdmf('materialIndex.xdmf', xdmf_info_matIndex, 'materialIndex', xdmf_info_swarm, 'TheSwarm')\n"
   ]
  },
  {
   "cell_type": "code",
   "execution_count": null,
   "metadata": {},
   "outputs": [],
   "source": [
    "for xdmf_info,save_name,save_object in [(xdmf_info_swarm, 'hydraulicDiffusivitySwarm', hydraulicDiffusivity),\n",
    "                                        (xdmf_info_mesh, 'hydraulicDiffusivityField', hydraulicDiffusivityField),\n",
    "                                        (xdmf_info_mesh,  'materialIndexField', materialIndexField),\n",
    "                                        (xdmf_info_mesh, 'velocityField', velocityField),\n",
    "                                        (xdmf_info_mesh, 'pressureField', gwPressureField),\n",
    "                                        (xdmf_info_mesh, 'temperatureField', temperatureField),\n",
    "                                        (xdmf_info_swarm, 'thermalDiffusivitySwarm', thermalDiffusivity),\n",
    "                                        (xdmf_info_swarm, 'heatProductionSwarm', heatProduction)]:\n",
    "    \n",
    "    xdmf_info_var = save_object.save(save_name+'.h5')\n",
    "    save_object.xdmf(save_name+'.xdmf', xdmf_info_var, save_name, xdmf_info, 'TheMesh')"
   ]
  }
 ],
 "metadata": {
  "kernelspec": {
   "display_name": "Python 3",
   "language": "python",
   "name": "python3"
  },
  "language_info": {
   "codemirror_mode": {
    "name": "ipython",
    "version": 3
   },
   "file_extension": ".py",
   "mimetype": "text/x-python",
   "name": "python",
   "nbconvert_exporter": "python",
   "pygments_lexer": "ipython3",
   "version": "3.6.9"
  }
 },
 "nbformat": 4,
 "nbformat_minor": 2
}
