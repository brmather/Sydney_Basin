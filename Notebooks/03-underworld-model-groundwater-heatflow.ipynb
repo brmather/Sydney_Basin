{
 "cells": [
  {
   "cell_type": "markdown",
   "metadata": {},
   "source": [
    "# 3 - Underworld model: groundwater + heat flow\n",
    "\n",
    "Set up the Underworld model with the appropriate material properties to solve steady state Darcy flow and heat flow."
   ]
  },
  {
   "cell_type": "code",
   "execution_count": null,
   "metadata": {},
   "outputs": [],
   "source": [
    "import numpy as np\n",
    "import os\n",
    "import stripy\n",
    "import matplotlib.pyplot as plt\n",
    "from scipy import interpolate\n",
    "from scipy.spatial import cKDTree\n",
    "\n",
    "import underworld as uw\n",
    "import underworld.visualisation as vis\n",
    "uw.utils.matplotlib_inline()"
   ]
  },
  {
   "cell_type": "code",
   "execution_count": null,
   "metadata": {
    "scrolled": false
   },
   "outputs": [],
   "source": [
    "data_dir = \"../Data/\"\n",
    "\n",
    "xmin, xmax = 1e99, 1e-99\n",
    "ymin, ymax = 1e99, 1e-99\n",
    "zmin, zmax = 1e99, 1e-99\n",
    "\n",
    "csvfiles = []\n",
    "for i, f in enumerate(sorted(os.listdir(data_dir))):\n",
    "    if f.endswith('.csv') and f[0:2].isdigit():\n",
    "        csvfiles.append(f)\n",
    "        \n",
    "        xyz = np.loadtxt(data_dir+f, delimiter=',', skiprows=1)\n",
    "        \n",
    "        xmin, ymin, zmin = np.minimum([xmin, ymin, zmin], xyz.min(axis=0))\n",
    "        xmax, ymax, zmax = np.maximum([xmax, ymax, zmax], xyz.max(axis=0))\n",
    "        \n",
    "        print(\"{:35} : av depth {:10.3f} +- {:9.3f} metres\".format(f, xyz[:,-1].mean(), np.std(xyz[:,-1])))\n",
    "\n",
    "csvfiles = list(sorted(csvfiles))\n",
    "\n",
    "print(\" \")\n",
    "print(\"x {:8.3f} -> {:8.3f} km\".format(xmin/1e3,xmax/1e3))\n",
    "print(\"y {:8.3f} -> {:8.3f} km\".format(ymin/1e3,ymax/1e3))\n",
    "print(\"z {:8.3f} -> {:8.3f} km\".format(zmin/1e3,zmax/1e3))\n"
   ]
  },
  {
   "cell_type": "markdown",
   "metadata": {},
   "source": [
    "## Set up the mesh"
   ]
  },
  {
   "cell_type": "code",
   "execution_count": null,
   "metadata": {},
   "outputs": [],
   "source": [
    "## setup model resolution\n",
    "\n",
    "# global size\n",
    "Nx, Ny, Nz = 20, 20, 50\n",
    "\n",
    "\n",
    "deformedmesh = True\n",
    "elementType = \"Q1\"\n",
    "mesh = uw.mesh.FeMesh_Cartesian( elementType = (elementType), \n",
    "                                 elementRes  = (Nx,Ny,Nz), \n",
    "                                 minCoord    = (xmin,ymin,zmin), \n",
    "                                 maxCoord    = (xmax,ymax,zmax)) \n",
    "\n",
    "gwPressureField            = mesh.add_variable( nodeDofCount=1 )\n",
    "temperatureField           = mesh.add_variable( nodeDofCount=1 )\n",
    "velocityField              = mesh.add_variable( nodeDofCount=3 )"
   ]
  },
  {
   "cell_type": "code",
   "execution_count": null,
   "metadata": {},
   "outputs": [],
   "source": [
    "coords = mesh.data\n",
    "\n",
    "Xcoords = np.unique(coords[:,0])\n",
    "Ycoords = np.unique(coords[:,1])\n",
    "Zcoords = np.unique(coords[:,2])\n",
    "nx, ny, nz = Xcoords.size, Ycoords.size, Zcoords.size\n",
    "\n",
    "tree = cKDTree(coords)\n",
    "\n",
    "xq, yq = np.meshgrid(Xcoords, Ycoords)\n",
    "xq_ = xq.ravel()\n",
    "yq_ = yq.ravel()\n",
    "tree_layer = cKDTree(np.c_[xq_,yq_])\n",
    "\n",
    "voxel_model = np.full((nz,ny,nx), -1, dtype=np.int)\n",
    "layer_mask = np.zeros(nz*ny*nx, dtype=bool)"
   ]
  },
  {
   "cell_type": "code",
   "execution_count": null,
   "metadata": {},
   "outputs": [],
   "source": [
    "z_grid_prev = np.zeros((ny,nx))\n",
    "\n",
    "grid_list = []\n",
    "\n",
    "for lith, f in enumerate(csvfiles):\n",
    "\n",
    "    # load the surface and remove duplicates\n",
    "    x,y,z = np.loadtxt(data_dir+f, delimiter=',', skiprows=1, unpack=True)\n",
    "    unique_xy, unique_index = np.unique(np.c_[x,y], axis=0, return_index=True)\n",
    "    x, y = list(unique_xy.T)\n",
    "    z = z[unique_index]\n",
    "\n",
    "    # interpolate to grid\n",
    "    smesh = stripy.Triangulation(x, y, tree=True, permute=True)\n",
    "    smesh.update_tension_factors(z)\n",
    "    z_grid = smesh.interpolate_to_grid(Xcoords, Ycoords, z)\n",
    "    z_near, zierr = smesh.interpolate_nearest(xq_, yq_, z)\n",
    "    z_near = z_near.reshape(z_grid.shape)\n",
    "\n",
    "    # set entries outside tolerance to nearest neighbour interpolant\n",
    "    ztol = 0.1*(np.percentile(z,99) - np.percentile(z,1))\n",
    "    z_mask = np.logical_or(z_grid > z_near + ztol, z_grid < z_near - ztol)\n",
    "    z_grid[z_mask] = z_near[z_mask]\n",
    "\n",
    "    # avoid the gap - make sure we interpolate where we have data\n",
    "    d, idx = smesh.nearest_vertices(xq_, yq_)\n",
    "    dtol = np.sqrt(smesh.areas()).mean()\n",
    "    z_inv_mask = np.logical_or(zierr==1, d > dtol)\n",
    "    z_grid.flat[z_inv_mask] = z_grid_prev.flat[z_inv_mask]\n",
    "\n",
    "    # interpolate to voxel_model\n",
    "    d, idx = tree.query(np.c_[xq_, yq_, z_grid.ravel()])\n",
    "    layer_mask.fill(0)\n",
    "    layer_mask[idx] = True\n",
    "    i0, j0, k0 = np.where(layer_mask.reshape(nz,ny,nx))\n",
    "    for i in range(i0.size):\n",
    "        voxel_model[:i0[i], j0[i], k0[i]] = lith+1\n",
    "\n",
    "\n",
    "    # store for next surface\n",
    "    z_grid_prev = z_grid.copy()\n",
    "    \n",
    "    grid_list.append(z_grid.copy())"
   ]
  },
  {
   "cell_type": "markdown",
   "metadata": {},
   "source": [
    "### Wrap mesh to surface topography\n",
    "\n",
    "We want to deform z component so that we bunch up the mesh where we have valleys. The total number of cells should remain the same, only the vertical spacing should vary."
   ]
  },
  {
   "cell_type": "code",
   "execution_count": null,
   "metadata": {},
   "outputs": [],
   "source": [
    "local_topography = grid_list[0]\n",
    "\n",
    "# depth above which to deform\n",
    "z_deform = zmin\n",
    "\n",
    "with mesh.deform_mesh():\n",
    "    zcube = coords[:,2].reshape(nz,ny,nx)\n",
    "    zcube_norm = zcube.copy()\n",
    "    zcube_norm -= z_deform\n",
    "    zcube_norm /= zmax - z_deform\n",
    "    zcube_mask = zcube_norm < 0\n",
    "    \n",
    "    # difference to add to existing z coordinates\n",
    "    dzcube = zcube_norm * -(zmax - local_topography)\n",
    "    \n",
    "    mesh.data[:,2] += dzcube.ravel()\n",
    "    coords = mesh.data"
   ]
  },
  {
   "cell_type": "markdown",
   "metadata": {},
   "source": [
    "## Set up the types of boundary conditions\n",
    "\n",
    "We'll set the left, right and bottom walls such that flow cannot pass through them, only parallel.\n",
    "In other words for groundwater pressure $P$:\n",
    "\n",
    "$ \\frac{\\partial P}{\\partial x}=0$ : left and right walls\n",
    "\n",
    "$ \\frac{\\partial P}{\\partial y}=0$ : bottom wall\n",
    "\n",
    "This is only solvable if there is topography or a non-uniform upper pressure BC."
   ]
  },
  {
   "cell_type": "code",
   "execution_count": null,
   "metadata": {},
   "outputs": [],
   "source": [
    "topWall = mesh.specialSets[\"MaxK_VertexSet\"]\n",
    "bottomWall = mesh.specialSets[\"MinK_VertexSet\"]\n",
    "\n",
    "gwPressureBC = uw.conditions.DirichletCondition( variable      = gwPressureField, \n",
    "                                               indexSetsPerDof = ( topWall   ) )\n",
    "\n",
    "temperatureBC = uw.conditions.DirichletCondition( variable        = temperatureField,\n",
    "                                                  indexSetsPerDof = (topWall+bottomWall))\n",
    "\n",
    "Tmax = 100.\n",
    "Tmin = 0."
   ]
  },
  {
   "cell_type": "code",
   "execution_count": null,
   "metadata": {},
   "outputs": [],
   "source": [
    "# lower groundwater pressure BC - value is relative to gravity\n",
    "maxgwpressure = 0.9\n",
    "\n",
    "# zCoordFn = uw.function.input()[2]\n",
    "# yCoordFn = uw.function.input()[1]\n",
    "# xCoordFn = uw.function.input()[0]\n",
    "\n",
    "\n",
    "# upper groundwater pressure set to topography\n",
    "# if deformedMesh then the initial pressure field is just a smooth gradient\n",
    "linear_gradient = 1.0 - zcube_norm.ravel()\n",
    "\n",
    "initial_pressure = linear_gradient*maxgwpressure\n",
    "initial_temperature = linear_gradient*(Tmax - Tmin) + Tmin\n",
    "\n",
    "\n",
    "gwPressureField.data[:]  = initial_pressure.reshape(-1,1)\n",
    "temperatureField.data[:] = initial_temperature.reshape(-1,1)"
   ]
  },
  {
   "cell_type": "markdown",
   "metadata": {},
   "source": [
    "## Set up the swarm particles\n",
    "\n",
    "It is best to set only one particle per cell, to prevent variations in hydaulic diffusivity within cells."
   ]
  },
  {
   "cell_type": "code",
   "execution_count": null,
   "metadata": {},
   "outputs": [],
   "source": [
    "gaussPointCount = 4\n",
    "\n",
    "swarm         = uw.swarm.Swarm( mesh=mesh )\n",
    "swarmLayout   = uw.swarm.layouts.PerCellGaussLayout(swarm=swarm,gaussPointCount=gaussPointCount)\n",
    "swarm.populate_using_layout( layout=swarmLayout )"
   ]
  },
  {
   "cell_type": "markdown",
   "metadata": {},
   "source": [
    "*Assign materials to particles.*\n",
    "\n",
    "This requires interpolating from mesh to swarm. You would think this should be quick (but it ain't!):\n",
    "\n",
    "```python\n",
    "# set up swarm variable & mesh variable\n",
    "materialIndex = swarm.add_variable( dataType='int', count=1 )\n",
    "materialIndex_mesh = mesh.add_variable( nodeDofCount=1 )\n",
    "materialIndex_mesh.data[:] = voxel_model.reshape(-1,1)\n",
    "\n",
    "# evaluate mesh variable on the swarm\n",
    "materialIndex.data[:] = materialIndex_mesh.evaluate(swarm)\n",
    "```\n",
    "\n",
    "Instead, I make do with __k-d trees__!"
   ]
  },
  {
   "cell_type": "code",
   "execution_count": null,
   "metadata": {},
   "outputs": [],
   "source": [
    "materialIndex  = swarm.add_variable( dataType=\"int\",    count=1 )\n",
    "swarmVelocity  = swarm.add_variable( dataType=\"double\", count=3 )\n",
    "\n",
    "hydraulicDiffusivity = swarm.add_variable( dataType=\"double\", count=1 )\n",
    "thermalDiffusivity   = swarm.add_variable( dataType=\"double\", count=1 )\n",
    "heatProduction       = swarm.add_variable( dataType=\"double\", count=1 )\n"
   ]
  },
  {
   "cell_type": "code",
   "execution_count": null,
   "metadata": {},
   "outputs": [],
   "source": [
    "# mesh has been deformed, rebuild k-d tree\n",
    "tree_mesh = cKDTree(mesh.data)\n",
    "d, idx = tree_mesh.query(swarm.data)\n",
    "\n",
    "# project from mesh to the swarm\n",
    "materialIndex.data[:] = voxel_model.flat[idx].reshape(-1,1)"
   ]
  },
  {
   "cell_type": "markdown",
   "metadata": {},
   "source": [
    "### Assign material properties\n",
    "\n",
    "Use level sets to assign hydraulic diffusivities to a region on the mesh corresponding to any given material index.\n",
    "\n",
    "- $H$ : rate of heat production\n",
    "- $\\rho$ : density\n",
    "- $k_h$ : hydraulic conductivity\n",
    "- $k_t$ : thermal conductivity\n",
    "- $\\kappa_h$ : hydraulic diffusivity\n",
    "- $\\kappa_t$ : thermal diffusivity\n",
    "\n",
    "__First, there are some lithologies that need to be collapsed.__"
   ]
  },
  {
   "cell_type": "code",
   "execution_count": null,
   "metadata": {},
   "outputs": [],
   "source": [
    "def read_material_index(filename, cols):\n",
    "    \"\"\"\n",
    "    Reads the material index with specified columns\n",
    "    \"\"\"\n",
    "    import csv\n",
    "    \n",
    "    layerIndex = dict()\n",
    "    \n",
    "    with open(filename, 'r') as f:\n",
    "        rowreader = csv.reader(f, delimiter=',')\n",
    "        csvdata = list(rowreader)\n",
    "        header = csvdata.pop(0)\n",
    "        \n",
    "    nrows = len(csvdata)\n",
    "\n",
    "    matName  = []\n",
    "    matIndex = np.empty(nrows, dtype=int)\n",
    "    read_columns = np.empty((nrows, len(cols)))\n",
    "    \n",
    "    for r, row in enumerate(csvdata):\n",
    "        index = int(row[0])\n",
    "        matIndex[r] = index\n",
    "        layerIndex[index] = np.array(row[1].split(' '), dtype=int)\n",
    "        matName.append(row[2])\n",
    "        \n",
    "        for c, col in enumerate(cols):\n",
    "            read_columns[r,c] = row[col]\n",
    "            \n",
    "    return layerIndex, matIndex, matName, list(read_columns.T)"
   ]
  },
  {
   "cell_type": "code",
   "execution_count": null,
   "metadata": {},
   "outputs": [],
   "source": [
    "cols = [3,5,7,9]\n",
    "layerIndex, matIndex, matName, [rho, kt, H, kh] = read_material_index(data_dir+\"material_properties.csv\", cols)"
   ]
  },
  {
   "cell_type": "code",
   "execution_count": null,
   "metadata": {
    "scrolled": true
   },
   "outputs": [],
   "source": [
    "voxel_model_condensed = voxel_model.flatten()\n",
    "voxel_model_swarm     = materialIndex.data.copy()\n",
    "\n",
    "# condense lith(s) to index(s)\n",
    "for index in matIndex:\n",
    "    for lith in layerIndex[index]:\n",
    "        voxel_model_condensed[voxel_model_condensed == lith] = index\n",
    "        voxel_model_swarm[voxel_model_swarm == lith] = index\n",
    "        \n",
    "# populate mesh variables with material properties\n",
    "for i, index in enumerate(matIndex):\n",
    "    mask_material = voxel_model_swarm == index\n",
    "    hydraulicDiffusivity.data[mask_material] = kh[i]\n",
    "    thermalDiffusivity.data[mask_material]   = kt[i]\n",
    "    heatProduction.data[mask_material]       = H[i]"
   ]
  },
  {
   "cell_type": "markdown",
   "metadata": {},
   "source": [
    "**Ensure `materialIndex` is constant within an element!**\n",
    "\n",
    "Take the mean of all swarm values assigned each cell.\n",
    "\n",
    "```python\n",
    "owningCell = swarm.owningCell\n",
    "\n",
    "for cell in range(0, mesh.elementsLocal):\n",
    "    mask_cell = swarm.owningCell.data == cell\n",
    "    \n",
    "    # reassign material properties\n",
    "    hydraulicDiffusivity.data[mask_cell] = hydraulicDiffusivity.data[mask_cell].mean()\n",
    "    thermalDiffusivity.data[mask_cell] = thermalDiffusivity.data[mask_cell].mean()\n",
    "    heatProduction.data[mask_cell] = heatProduction.data[mask_cell].mean()\n",
    "```\n",
    "\n",
    "The above code would be ideal, but it takes too long to compute so we only search through cells that have different value centroids"
   ]
  },
  {
   "cell_type": "code",
   "execution_count": null,
   "metadata": {},
   "outputs": [],
   "source": [
    "# be careful that elements in data_elementNodes are not global IDs\n",
    "elementNodes = mesh.data_elementNodes - mesh.data_elementNodes.min()\n",
    "assert elementNodes.shape[0] == mesh.elementsLocal, \"mismatch in number of elements\"\n",
    "\n",
    "element_centroids = mesh.data[elementNodes].mean(axis=1)\n",
    "element_material_min = voxel_model.flat[elementNodes].min(axis=1)\n",
    "element_material_max = voxel_model.flat[elementNodes].max(axis=1)\n",
    "\n",
    "# find elements where max does not equal min\n",
    "idx_nonconstant_cells = np.nonzero(element_material_min != element_material_max)[0]"
   ]
  },
  {
   "cell_type": "code",
   "execution_count": null,
   "metadata": {},
   "outputs": [],
   "source": [
    "owningCell = swarm.owningCell\n",
    "\n",
    "for cell in idx_nonconstant_cells:\n",
    "    mask_cell = swarm.owningCell.data == cell\n",
    "    \n",
    "    # reassign material properties\n",
    "    hydraulicDiffusivity.data[mask_cell] = hydraulicDiffusivity.data[mask_cell].mean()\n",
    "    thermalDiffusivity.data[mask_cell] = thermalDiffusivity.data[mask_cell].mean()\n",
    "    heatProduction.data[mask_cell] = heatProduction.data[mask_cell].mean()"
   ]
  },
  {
   "cell_type": "markdown",
   "metadata": {},
   "source": [
    "## Set up groundwater equations"
   ]
  },
  {
   "cell_type": "code",
   "execution_count": null,
   "metadata": {},
   "outputs": [],
   "source": [
    "heateqn = uw.systems.SteadyStateHeat( temperatureField = temperatureField,\n",
    "                                      fn_diffusivity   = thermalDiffusivity,\n",
    "                                      fn_heating       = heatProduction,\n",
    "                                      conditions       = temperatureBC\n",
    "                                      )\n",
    "\n",
    "heatsolver = uw.systems.Solver(heateqn)"
   ]
  },
  {
   "cell_type": "code",
   "execution_count": null,
   "metadata": {},
   "outputs": [],
   "source": [
    "heatsolver.solve()"
   ]
  },
  {
   "cell_type": "code",
   "execution_count": null,
   "metadata": {},
   "outputs": [],
   "source": [
    "if deformedmesh:\n",
    "    g = uw.function.misc.constant((0.,0.,-1.))\n",
    "else:\n",
    "    g = uw.function.misc.constant((0.,0.,0.))\n",
    "    \n",
    "Storage = 1.\n",
    "rho_water = 1.\n",
    "\n",
    "gwPressureGrad = gwPressureField.fn_gradient\n",
    "\n",
    "gMapFn = -g*rho_water*Storage\n",
    "gwadvDiff = uw.systems.SteadyStateDarcyFlow(\n",
    "                                            velocityField    = velocityField, \\\n",
    "                                            pressureField    = gwPressureField, \\\n",
    "                                            fn_diffusivity   = hydraulicDiffusivity, \\\n",
    "                                            conditions       = [gwPressureBC], \\\n",
    "                                            fn_bodyforce     = -gMapFn, \\\n",
    "                                            voronoi_swarm    = swarm, \\\n",
    "                                            swarmVarVelocity = swarmVelocity)\n",
    "\n",
    "gwsolver = uw.systems.Solver(gwadvDiff)"
   ]
  },
  {
   "cell_type": "code",
   "execution_count": null,
   "metadata": {},
   "outputs": [],
   "source": [
    "gwsolver.solve()"
   ]
  },
  {
   "cell_type": "markdown",
   "metadata": {},
   "source": [
    "__Save to HDF5__"
   ]
  },
  {
   "cell_type": "code",
   "execution_count": null,
   "metadata": {},
   "outputs": [],
   "source": [
    "\n",
    "xdmf_info_mesh  = mesh.save('mesh.h5')\n",
    "xdmf_info_swarm = swarm.save('swarm.h5')\n",
    "\n",
    "xdmf_info_matIndex = materialIndex.save('materialIndex.h5')\n",
    "materialIndex.xdmf('materialIndex.xdmf', xdmf_info_matIndex, 'materialIndex', xdmf_info_swarm, 'TheSwarm')\n"
   ]
  },
  {
   "cell_type": "code",
   "execution_count": null,
   "metadata": {},
   "outputs": [],
   "source": [
    "for xdmf_info,save_name,save_object in [(xdmf_info_swarm, 'hydraulicDiffusivitySwarm', hydraulicDiffusivity),\n",
    "                                        (xdmf_info_mesh, 'velocityField', velocityField),\n",
    "                                        (xdmf_info_mesh, 'pressureField', gwPressureField),\n",
    "                                        (xdmf_info_mesh, 'temperatureField', temperatureField),\n",
    "                                        (xdmf_info_swarm, 'thermalDiffusivitySwarm', thermalDiffusivity),\n",
    "                                        (xdmf_info_swarm, 'heatProductionSwarm', heatProduction)]:\n",
    "    \n",
    "    xdmf_info_var = save_object.save(save_name+'.h5')\n",
    "    save_object.xdmf(save_name+'.xdmf', xdmf_info_var, save_name, xdmf_info, 'TheMesh')"
   ]
  },
  {
   "cell_type": "code",
   "execution_count": null,
   "metadata": {},
   "outputs": [],
   "source": []
  }
 ],
 "metadata": {
  "kernelspec": {
   "display_name": "Python 3",
   "language": "python",
   "name": "python3"
  },
  "language_info": {
   "codemirror_mode": {
    "name": "ipython",
    "version": 3
   },
   "file_extension": ".py",
   "mimetype": "text/x-python",
   "name": "python",
   "nbconvert_exporter": "python",
   "pygments_lexer": "ipython3",
   "version": "3.6.9"
  }
 },
 "nbformat": 4,
 "nbformat_minor": 2
}
